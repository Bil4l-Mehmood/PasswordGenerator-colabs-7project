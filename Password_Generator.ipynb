{
  "nbformat": 4,
  "nbformat_minor": 0,
  "metadata": {
    "colab": {
      "provenance": []
    },
    "kernelspec": {
      "name": "python3",
      "display_name": "Python 3"
    },
    "language_info": {
      "name": "python"
    }
  },
  "cells": [
    {
      "cell_type": "markdown",
      "source": [
        "# **Projects to be submitted by Students**"
      ],
      "metadata": {
        "id": "jB1n7MYbs4F1"
      }
    },
    {
      "cell_type": "markdown",
      "source": [
        "**Project 7: Password Generator**"
      ],
      "metadata": {
        "id": "rNU6bArCtD5P"
      }
    },
    {
      "cell_type": "code",
      "execution_count": 1,
      "metadata": {
        "colab": {
          "base_uri": "https://localhost:8080/"
        },
        "id": "KRpSr-xdsuGH",
        "outputId": "50105f3d-7a26-4844-cdcf-176bb543efdc"
      },
      "outputs": [
        {
          "output_type": "stream",
          "name": "stdout",
          "text": [
            "Welcome to Password Generator\n",
            "Amount of passwords to generate: 5\n",
            "Input your password length: 4\n",
            "\n",
            "Here are your passwords: \n",
            "fFQb\n",
            "RkJy\n",
            "Z1ua\n",
            "UDjm\n",
            "6V0b\n"
          ]
        }
      ],
      "source": [
        "import random\n",
        "\n",
        "print(\"Welcome to Password Generator\")\n",
        "\n",
        "chars = \"abcdefghijklmnopqrstuvwxyzABCDEFGHIJKLMNOPQRSTUVWXYZ!@#$%^&*()1234567890\"\n",
        "\n",
        "number = input(\"Amount of passwords to generate: \")\n",
        "number = int(number)\n",
        "\n",
        "length = input(\"Input your password length: \")\n",
        "length = int(length)\n",
        "\n",
        "print(\"\\nHere are your passwords: \")\n",
        "\n",
        "for password in range(number):\n",
        "  passwords = \"\"\n",
        "  for c in range(length):\n",
        "    passwords += random.choice(chars)\n",
        "  print(passwords)"
      ]
    }
  ]
}